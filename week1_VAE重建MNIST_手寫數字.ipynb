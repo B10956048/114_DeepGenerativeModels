{
  "nbformat": 4,
  "nbformat_minor": 0,
  "metadata": {
    "colab": {
      "provenance": []
    },
    "kernelspec": {
      "name": "python3",
      "display_name": "Python 3"
    },
    "language_info": {
      "name": "python"
    }
  },
  "cells": [
    {
      "cell_type": "markdown",
      "metadata": {
        "id": "b607c870"
      },
      "source": [
        "# Task\n",
        "使用 PyTorch 實作變分自編碼器（VAE），並利用 MNIST 手寫數字資料集 (\"https://github.com/fgnt/mnist/raw/master/train-images-idx3-ubyte.gz\", \"https://github.com/fgnt/mnist/raw/master/train-labels-idx1-ubyte.gz\", \"https://github.com/fgnt/mnist/raw/master/t10k-images-idx3-ubyte.gz\", \"https://github.fgnt/mnist/raw/master/t10k-labels-idx1-ubyte.gz\") 進行訓練，最終展示測試集圖像的重建結果。"
      ]
    },
    {
      "cell_type": "markdown",
      "metadata": {
        "id": "b4ebfd22"
      },
      "source": [
        "## 資料準備\n",
        "\n",
        "### Subtask:\n",
        "下載 MNIST 資料集，並載入訓練集和測試集。\n"
      ]
    },
    {
      "cell_type": "markdown",
      "metadata": {
        "id": "9984ad71"
      },
      "source": [
        "**Reasoning**:\n",
        "Import necessary libraries and define the URLs for the MNIST dataset.\n",
        "\n"
      ]
    },
    {
      "cell_type": "code",
      "metadata": {
        "id": "933cfe47"
      },
      "source": [
        "import torch\n",
        "import torchvision.datasets as datasets\n",
        "import torchvision.transforms as transforms\n",
        "\n",
        "urls = [\n",
        "    \"https://github.com/fgnt/mnist/raw/master/train-images-idx3-ubyte.gz\",\n",
        "    \"https://github.com/fgnt/mnist/raw/master/train-labels-idx1-ubyte.gz\",\n",
        "    \"https://github.fgnt/mnist/raw/master/t10k-images-idx3-ubyte.gz\",\n",
        "    \"https://github.fgnt/mnist/raw/master/t10k-labels-idx1-ubyte.gz\",\n",
        "]"
      ],
      "execution_count": 1,
      "outputs": []
    },
    {
      "cell_type": "markdown",
      "metadata": {
        "id": "f6192e4e"
      },
      "source": [
        "**Reasoning**:\n",
        "Download and load the training and testing datasets using the defined URLs and apply the necessary transformations.\n",
        "\n"
      ]
    },
    {
      "cell_type": "code",
      "metadata": {
        "colab": {
          "base_uri": "https://localhost:8080/"
        },
        "id": "118be156",
        "outputId": "4b65e3c3-1532-4c5c-8426-84839ee3f282"
      },
      "source": [
        "train_dataset = datasets.MNIST(root='./data', train=True, download=True, transform=transforms.ToTensor())\n",
        "test_dataset = datasets.MNIST(root='./data', train=False, download=True, transform=transforms.ToTensor())"
      ],
      "execution_count": 2,
      "outputs": [
        {
          "output_type": "stream",
          "name": "stderr",
          "text": [
            "100%|██████████| 9.91M/9.91M [00:00<00:00, 34.6MB/s]\n",
            "100%|██████████| 28.9k/28.9k [00:00<00:00, 1.58MB/s]\n",
            "100%|██████████| 1.65M/1.65M [00:00<00:00, 9.26MB/s]\n",
            "100%|██████████| 4.54k/4.54k [00:00<00:00, 6.24MB/s]\n"
          ]
        }
      ]
    },
    {
      "cell_type": "markdown",
      "metadata": {
        "id": "ad90c00d"
      },
      "source": [
        "**Reasoning**:\n",
        "Create DataLoaders for the training and testing datasets to handle batching and shuffling.\n",
        "\n"
      ]
    },
    {
      "cell_type": "code",
      "metadata": {
        "id": "Vp-4ak1Buvk2"
      },
      "source": [
        "batch_size = 128\n",
        "train_loader = torch.utils.data.DataLoader(train_dataset, batch_size=batch_size, shuffle=True)\n",
        "test_loader = torch.utils.data.DataLoader(test_dataset, batch_size=batch_size, shuffle=False)"
      ],
      "execution_count": 3,
      "outputs": []
    },
    {
      "cell_type": "markdown",
      "metadata": {
        "id": "10c0169f"
      },
      "source": [
        "## 模型設計\n",
        "\n",
        "### Subtask:\n",
        "定義 VAE 的 Encoder 和 Decoder 結構，並實作 reparameterization trick。\n"
      ]
    },
    {
      "cell_type": "markdown",
      "metadata": {
        "id": "1e096bdd"
      },
      "source": [
        "**Reasoning**:\n",
        "Define the VAE class with Encoder, Decoder, and reparameterization trick as instructed.\n",
        "\n"
      ]
    },
    {
      "cell_type": "code",
      "metadata": {
        "id": "82338c2f"
      },
      "source": [
        "import torch.nn as nn\n",
        "import torch.nn.functional as F\n",
        "\n",
        "class VAE(nn.Module):\n",
        "    def __init__(self, latent_dim):\n",
        "        super(VAE, self).__init__()\n",
        "\n",
        "        # Encoder\n",
        "        self.conv1 = nn.Conv2d(1, 32, kernel_size=3, stride=2, padding=1)\n",
        "        self.bn1 = nn.BatchNorm2d(32)\n",
        "        self.conv2 = nn.Conv2d(32, 64, kernel_size=3, stride=2, padding=1)\n",
        "        self.bn2 = nn.BatchNorm2d(64)\n",
        "        self.conv3 = nn.Conv2d(64, 128, kernel_size=3, stride=2, padding=1)\n",
        "        self.bn3 = nn.BatchNorm2d(128)\n",
        "        self.fc_mean = nn.Linear(128 * 4 * 4, latent_dim)\n",
        "        self.fc_log_var = nn.Linear(128 * 4 * 4, latent_dim)\n",
        "\n",
        "        # Decoder\n",
        "        self.fc_decoder = nn.Linear(latent_dim, 128 * 4 * 4)\n",
        "        self.deconv1 = nn.ConvTranspose2d(128, 64, kernel_size=4, stride=2, padding=1)\n",
        "        self.bn4 = nn.BatchNorm2d(64)\n",
        "        self.deconv2 = nn.ConvTranspose2d(64, 32, kernel_size=4, stride=2, padding=1)\n",
        "        self.bn5 = nn.BatchNorm2d(32)\n",
        "        self.deconv3 = nn.ConvTranspose2d(32, 1, kernel_size=4, stride=2, padding=1)\n",
        "\n",
        "\n",
        "    def encode(self, x):\n",
        "        x = F.relu(self.bn1(self.conv1(x)))\n",
        "        x = F.relu(self.bn2(self.conv2(x)))\n",
        "        x = F.relu(self.bn3(self.conv3(x)))\n",
        "        x = x.view(x.size(0), -1) # Flatten\n",
        "        mean = self.fc_mean(x)\n",
        "        log_var = self.fc_log_var(x)\n",
        "        return mean, log_var\n",
        "\n",
        "    def reparameterize(self, mean, log_var):\n",
        "        std = torch.exp(0.5 * log_var)\n",
        "        eps = torch.randn_like(std)\n",
        "        return mean + eps * std\n",
        "\n",
        "    def decode(self, z):\n",
        "        z = self.fc_decoder(z)\n",
        "        z = z.view(z.size(0), 128, 4, 4) # Reshape\n",
        "        z = F.relu(self.bn4(self.deconv1(z)))\n",
        "        z = F.relu(self.bn5(self.deconv2(z)))\n",
        "        reconstructed = torch.sigmoid(self.deconv3(z)) # Sigmoid for output between 0 and 1\n",
        "        return reconstructed\n",
        "\n",
        "    def forward(self, x):\n",
        "        mean, log_var = self.encode(x)\n",
        "        z = self.reparameterize(mean, log_var)\n",
        "        reconstructed = self.decode(z)\n",
        "        return reconstructed, mean, log_var"
      ],
      "execution_count": 4,
      "outputs": []
    },
    {
      "cell_type": "markdown",
      "metadata": {
        "id": "ab21a873"
      },
      "source": [
        "## 訓練設定\n",
        "\n",
        "### Subtask:\n",
        "設定 Adam 優化器、損失函數（重建損失和 KL 散度損失）以及訓練迴圈。\n"
      ]
    },
    {
      "cell_type": "markdown",
      "metadata": {
        "id": "8388f37e"
      },
      "source": [
        "**Reasoning**:\n",
        "Define the VAE model instance, Adam optimizer, loss function, and training loop parameters.\n",
        "\n"
      ]
    },
    {
      "cell_type": "code",
      "metadata": {
        "id": "126f1167"
      },
      "source": [
        "import torch.optim as optim\n",
        "import torch.nn.functional as F\n",
        "\n",
        "latent_dim = 20\n",
        "model = VAE(latent_dim)\n",
        "\n",
        "optimizer = optim.Adam(model.parameters(), lr=1e-3)\n",
        "\n",
        "def loss_function(reconstructed_x, x, mean, log_var):\n",
        "    # Reconstruction loss (Binary Cross-Entropy)\n",
        "    reconstruction_loss = F.binary_cross_entropy(reconstructed_x, x, reduction='sum')\n",
        "\n",
        "    # KL divergence loss\n",
        "    # 0.5 * sum(1 + log(sigma^2) - mu^2 - sigma^2)\n",
        "    kl_divergence = -0.5 * torch.sum(1 + log_var - mean.pow(2) - log_var.exp())\n",
        "\n",
        "    return reconstruction_loss + kl_divergence\n",
        "\n",
        "num_epochs = 10\n",
        "average_losses = []"
      ],
      "execution_count": 5,
      "outputs": []
    },
    {
      "cell_type": "markdown",
      "metadata": {
        "id": "bff38b33"
      },
      "source": [
        "## 模型訓練\n",
        "\n",
        "### Subtask:\n",
        "訓練 VAE 模型，並在每個 epoch 顯示平均損失。\n"
      ]
    },
    {
      "cell_type": "code",
      "metadata": {
        "colab": {
          "base_uri": "https://localhost:8080/"
        },
        "id": "4T6BOgl_vJmP",
        "outputId": "5d364ebb-e532-4bf1-d538-1e9f7dc068e4"
      },
      "source": [
        "class VAE(nn.Module):\n",
        "    def __init__(self, latent_dim):\n",
        "        super(VAE, self).__init__()\n",
        "\n",
        "        # Encoder\n",
        "        self.conv1 = nn.Conv2d(1, 32, kernel_size=3, stride=2, padding=1)\n",
        "        self.bn1 = nn.BatchNorm2d(32)\n",
        "        self.conv2 = nn.Conv2d(32, 64, kernel_size=3, stride=2, padding=1)\n",
        "        self.bn2 = nn.BatchNorm2d(64)\n",
        "        self.conv3 = nn.Conv2d(64, 128, kernel_size=3, stride=2, padding=1)\n",
        "        self.bn3 = nn.BatchNorm2d(128)\n",
        "        self.fc_mean = nn.Linear(128 * 4 * 4, latent_dim)\n",
        "        self.fc_log_var = nn.Linear(128 * 4 * 4, latent_dim)\n",
        "\n",
        "        # Decoder\n",
        "        self.fc_decoder = nn.Linear(latent_dim, 128 * 4 * 4)\n",
        "        self.deconv1 = nn.ConvTranspose2d(128, 64, kernel_size=4, stride=2, padding=1)\n",
        "        self.bn4 = nn.BatchNorm2d(64)\n",
        "        self.deconv2 = nn.ConvTranspose2d(64, 32, kernel_size=4, stride=2, padding=1)\n",
        "        self.bn5 = nn.BatchNorm2d(32)\n",
        "        self.deconv3 = nn.ConvTranspose2d(32, 1, kernel_size=4, stride=2, padding=1, output_padding=0)\n",
        "\n",
        "\n",
        "    def encode(self, x):\n",
        "        x = F.relu(self.bn1(self.conv1(x)))\n",
        "        x = F.relu(self.bn2(self.conv2(x)))\n",
        "        x = F.relu(self.bn3(self.conv3(x)))\n",
        "        x = x.view(x.size(0), -1) # Flatten\n",
        "        mean = self.fc_mean(x)\n",
        "        log_var = self.fc_log_var(x)\n",
        "        return mean, log_var\n",
        "\n",
        "    def reparameterize(self, mean, log_var):\n",
        "        std = torch.exp(0.5 * log_var)\n",
        "        eps = torch.randn_like(std)\n",
        "        return mean + eps * std\n",
        "\n",
        "    def decode(self, z):\n",
        "        z = self.fc_decoder(z)\n",
        "        z = z.view(z.size(0), 128, 4, 4) # Reshape\n",
        "        z = F.relu(self.bn4(self.deconv1(z)))\n",
        "        z = F.relu(self.bn5(self.deconv2(z)))\n",
        "        reconstructed = torch.sigmoid(self.deconv3(z)[:, :, :28, :28]) # Crop the output to 28x28\n",
        "        return reconstructed\n",
        "\n",
        "    def forward(self, x):\n",
        "        mean, log_var = self.encode(x)\n",
        "        z = self.reparameterize(mean, log_var)\n",
        "        reconstructed = self.decode(z)\n",
        "        return reconstructed, mean, log_var\n",
        "\n",
        "model = VAE(latent_dim)\n",
        "optimizer = optim.Adam(model.parameters(), lr=1e-3)\n",
        "\n",
        "def loss_function(reconstructed_x, x, mean, log_var):\n",
        "    # Reconstruction loss (Binary Cross-Entropy)\n",
        "    reconstruction_loss = F.binary_cross_entropy(reconstructed_x, x, reduction='sum')\n",
        "\n",
        "    # KL divergence loss\n",
        "    # 0.5 * sum(1 + log(sigma^2) - mu^2 - sigma^2)\n",
        "    kl_divergence = -0.5 * torch.sum(1 + log_var - mean.pow(2) - log_var.exp())\n",
        "\n",
        "    return reconstruction_loss + kl_divergence\n",
        "\n",
        "num_epochs = 10\n",
        "average_losses = []\n",
        "\n",
        "device = torch.device(\"cuda\" if torch.cuda.is_available() else \"cpu\")\n",
        "model.to(device)\n",
        "\n",
        "for epoch in range(num_epochs):\n",
        "    model.train()\n",
        "    total_loss = 0\n",
        "    for batch_idx, (data, _) in enumerate(train_loader):\n",
        "        data = data.to(device)\n",
        "        optimizer.zero_grad()\n",
        "        reconstructed_data, mean, log_var = model(data)\n",
        "        loss = loss_function(reconstructed_data, data, mean, log_var)\n",
        "        loss.backward()\n",
        "        optimizer.step()\n",
        "        total_loss += loss.item()\n",
        "\n",
        "    average_loss = total_loss / len(train_loader.dataset)\n",
        "    average_losses.append(average_loss)\n",
        "    print(f'Epoch {epoch+1}/{num_epochs}, Average Loss: {average_loss:.4f}')"
      ],
      "execution_count": 11,
      "outputs": [
        {
          "output_type": "stream",
          "name": "stdout",
          "text": [
            "Epoch 1/10, Average Loss: 137.2658\n",
            "Epoch 2/10, Average Loss: 108.2709\n",
            "Epoch 3/10, Average Loss: 105.5218\n",
            "Epoch 4/10, Average Loss: 104.0228\n",
            "Epoch 5/10, Average Loss: 103.0184\n",
            "Epoch 6/10, Average Loss: 102.2860\n",
            "Epoch 7/10, Average Loss: 101.6641\n",
            "Epoch 8/10, Average Loss: 101.1695\n",
            "Epoch 9/10, Average Loss: 100.8213\n",
            "Epoch 10/10, Average Loss: 100.3792\n"
          ]
        }
      ]
    },
    {
      "cell_type": "markdown",
      "metadata": {
        "id": "232f98c1"
      },
      "source": [
        "## 結果展示\n",
        "\n",
        "### Subtask:\n",
        "使用測試集圖像，透過訓練好的 VAE 進行重建，並將原始圖像和重建圖像進行比較。\n"
      ]
    },
    {
      "cell_type": "markdown",
      "metadata": {
        "id": "42761906"
      },
      "source": [
        "**Reasoning**:\n",
        "Implement the remaining steps to reconstruct test images using the trained VAE model and display the results.\n",
        "\n"
      ]
    },
    {
      "cell_type": "code",
      "metadata": {
        "colab": {
          "base_uri": "https://localhost:8080/",
          "height": 358
        },
        "id": "907e667f",
        "outputId": "44f96552-ea6d-47bb-f350-706b8ac18b04"
      },
      "source": [
        "import matplotlib.pyplot as plt\n",
        "\n",
        "model.eval()\n",
        "with torch.no_grad():\n",
        "    data, _ = next(iter(test_loader))\n",
        "    data = data.to(device)\n",
        "    reconstructed_data, _, _ = model(data)\n",
        "\n",
        "    original_images = data.cpu().numpy()\n",
        "    reconstructed_images = reconstructed_data.cpu().numpy()\n",
        "\n",
        "    num_images_to_display = 10\n",
        "    plt.figure(figsize=(20, 4))\n",
        "    for i in range(num_images_to_display):\n",
        "        # Original Images\n",
        "        ax = plt.subplot(2, num_images_to_display, i + 1)\n",
        "        plt.imshow(original_images[i].reshape(28, 28), cmap='gray')\n",
        "        if i == 0:\n",
        "            ax.set_title(\"Original\")\n",
        "        ax.get_xaxis().set_visible(False)\n",
        "        ax.get_yaxis().set_visible(False)\n",
        "\n",
        "        # Reconstructed Images\n",
        "        ax = plt.subplot(2, num_images_to_display, i + 1 + num_images_to_display)\n",
        "        plt.imshow(reconstructed_images[i].reshape(28, 28), cmap='gray')\n",
        "        if i == 0:\n",
        "            ax.set_title(\"Reconstructed\")\n",
        "        ax.get_xaxis().set_visible(False)\n",
        "        ax.get_yaxis().set_visible(False)\n",
        "    plt.show()"
      ],
      "execution_count": 13,
      "outputs": [
        {
          "output_type": "display_data",
          "data": {
            "text/plain": [
              "<Figure size 2000x400 with 20 Axes>"
            ],
            "image/png": "[encoded data removed]"
          },
          "metadata": {}
        }
      ]
    },
    {
      "cell_type": "markdown",
      "metadata": {
        "id": "884f4807"
      },
      "source": [
        "## Summary:\n",
        "\n",
        "### Data Analysis Key Findings\n",
        "\n",
        "*   The MNIST dataset was successfully downloaded, loaded, and prepared for training and testing, with data loaders created for batch processing.\n",
        "*   A Variational Autoencoder (VAE) model was defined with a convolutional encoder and decoder, incorporating the reparameterization trick.\n",
        "*   The training setup included the Adam optimizer and a custom loss function combining binary cross-entropy for reconstruction loss and KL divergence for regularization.\n",
        "*   During training, an initial `ValueError` due to a size mismatch between the reconstructed output and the input image was resolved by cropping the decoder's output to the correct 28x28 dimension.\n",
        "*   The VAE model was successfully trained for 10 epochs, and the average loss for each epoch was calculated and displayed, indicating the model was learning.\n",
        "*   The trained VAE was able to reconstruct images from the test set, demonstrating its capability to capture and reproduce the features of handwritten digits.\n",
        "\n",
        "### Insights or Next Steps\n",
        "\n",
        "*   The successful reconstruction of MNIST digits indicates the VAE has learned a meaningful latent representation of the data. Further analysis could involve exploring the latent space to understand how digits are represented and potentially generate new digit samples.\n",
        "*   To potentially improve reconstruction quality or explore different latent representations, one could experiment with different VAE architectures, latent space dimensions, or training hyperparameters (e.g., learning rate, number of epochs, KL divergence weight).\n"
      ]
    }
  ]
}